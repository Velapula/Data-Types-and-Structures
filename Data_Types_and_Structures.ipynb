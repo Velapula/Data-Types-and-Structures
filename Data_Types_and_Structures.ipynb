{
  "nbformat": 4,
  "nbformat_minor": 0,
  "metadata": {
    "colab": {
      "provenance": []
    },
    "kernelspec": {
      "name": "python3",
      "display_name": "Python 3"
    },
    "language_info": {
      "name": "python"
    }
  },
  "cells": [
    {
      "cell_type": "markdown",
      "source": [
        "**Theory**"
      ],
      "metadata": {
        "id": "YFVws3vMkFdZ"
      }
    },
    {
      "cell_type": "markdown",
      "source": [
        "# 1. What are data structures, and why are they important?\n",
        "\n",
        "-> Data structures in Python are specialized formats for organizing, managing, and storing data efficiently. They help in handling data effectively for various computational tasks.\n",
        "\n",
        "Importance of Data Structures:\n",
        "\n",
        "Efficient Data Storage & Retrieval: Helps in storing and accessing data quickly.\n",
        "\n",
        "Optimized Performance: Reduces the complexity of algorithms, improving speed.\n",
        "\n",
        "Memory Management: Prevents unnecessary memory usage and enhances performance.\n",
        "\n",
        "Ease of Use: Python provides built-in data structures that simplify coding.\n",
        "\n",
        "Solves Real-world Problems: Used in databases, AI, web development, and more."
      ],
      "metadata": {
        "id": "SNBzGE3ai2Gr"
      }
    },
    {
      "cell_type": "markdown",
      "source": [
        "# 2. Explain the difference between mutable and immutable data types with examples.\n",
        "\n",
        "-> In Python, data types are classified into mutable and immutable based on whether their values can be changed after creation.\n",
        "\n",
        "Mutable objects allow modifications after creation without changing their identity (memory address). While Immutable objects cannot be modified after creation. Any change creates a new object in memory."
      ],
      "metadata": {
        "id": "cp4jZhLGjooB"
      }
    },
    {
      "cell_type": "code",
      "source": [
        "# Examples of Mutable Data Types:\n",
        "\n",
        "# List:\n",
        "my_list = [1, 2, 3]\n",
        "my_list.append(4)  # Modifying the list\n",
        "print(my_list)  # Output: [1, 2, 3, 4]\n",
        "\n",
        "# Dictionaries:\n",
        "my_dict = {\"name\": \"Alice\", \"age\": 25}\n",
        "my_dict[\"age\"] = 26  # Modifying a value\n",
        "print(my_dict)  # Output: {'name': 'Alice', 'age': 26}\n",
        "\n",
        "\n",
        "#Sets:\n",
        "my_set = {1, 2, 3}\n",
        "my_set.add(4)  # Adding an element\n",
        "print(my_set)  # Output: {1, 2, 3, 4}\n",
        "\n",
        "#Examples of Immutable Data Types:\n",
        "\n",
        "#Strings:\n",
        "my_str = \"Hello\"\n",
        "my_str += \" World\"  # Creates a new string object\n",
        "print(my_str)  # Output: \"Hello World\"\n",
        "\n",
        "#Numbers:\n",
        "a = 10\n",
        "a += 5  # Creates a new integer object\n",
        "print(a)\n",
        "\n",
        "#Tuples:\n",
        "my_tuple = (1, 2, 3)\n",
        "my_tuple[0] = 10  #This will cause an error\n",
        "\n"
      ],
      "metadata": {
        "colab": {
          "base_uri": "https://localhost:8080/",
          "height": 280
        },
        "id": "0OcUoCrxmR6X",
        "outputId": "d591fd6d-731a-48ef-a2b3-4fb220d35c59"
      },
      "execution_count": null,
      "outputs": [
        {
          "output_type": "stream",
          "name": "stdout",
          "text": [
            "[1, 2, 3, 4]\n",
            "{'name': 'Alice', 'age': 26}\n",
            "{1, 2, 3, 4}\n",
            "Hello World\n",
            "15\n"
          ]
        },
        {
          "output_type": "error",
          "ename": "TypeError",
          "evalue": "'tuple' object does not support item assignment",
          "traceback": [
            "\u001b[0;31m---------------------------------------------------------------------------\u001b[0m",
            "\u001b[0;31mTypeError\u001b[0m                                 Traceback (most recent call last)",
            "\u001b[0;32m<ipython-input-11-47c5c7c1628c>\u001b[0m in \u001b[0;36m<cell line: 0>\u001b[0;34m()\u001b[0m\n\u001b[1;32m     32\u001b[0m \u001b[0;34m\u001b[0m\u001b[0m\n\u001b[1;32m     33\u001b[0m \u001b[0mmy_tuple\u001b[0m \u001b[0;34m=\u001b[0m \u001b[0;34m(\u001b[0m\u001b[0;36m1\u001b[0m\u001b[0;34m,\u001b[0m \u001b[0;36m2\u001b[0m\u001b[0;34m,\u001b[0m \u001b[0;36m3\u001b[0m\u001b[0;34m)\u001b[0m\u001b[0;34m\u001b[0m\u001b[0;34m\u001b[0m\u001b[0m\n\u001b[0;32m---> 34\u001b[0;31m \u001b[0mmy_tuple\u001b[0m\u001b[0;34m[\u001b[0m\u001b[0;36m0\u001b[0m\u001b[0;34m]\u001b[0m \u001b[0;34m=\u001b[0m \u001b[0;36m10\u001b[0m  \u001b[0;31m#This will cause an error\u001b[0m\u001b[0;34m\u001b[0m\u001b[0;34m\u001b[0m\u001b[0m\n\u001b[0m\u001b[1;32m     35\u001b[0m \u001b[0;34m\u001b[0m\u001b[0m\n",
            "\u001b[0;31mTypeError\u001b[0m: 'tuple' object does not support item assignment"
          ]
        }
      ]
    },
    {
      "cell_type": "markdown",
      "source": [
        "# 3. What are the main differences between lists and tuples in Python.\n",
        "\n",
        "->In Python, lists and tuples are both used to store collections of items, but they have key differences in terms of mutability, performance, and usage.\n",
        "\n",
        "Lists can be modified while tuples cannot.\n",
        "\n",
        "Lists performance is slower due to dynamic resizing, while tiples performance is faster due to fixed size.\n",
        "\n",
        "Lists uses more memory compared to tuples.\n",
        "\n",
        "lists have more methods (like .append(), .remove()) compared to tuples.\n",
        "\n",
        "Tuples have faster iteration speed to that of Lists.\n",
        "\n",
        "Lists are used when frequent modifications are needed and tuples are used when data should remain constant."
      ],
      "metadata": {
        "id": "83qIqSe-oaew"
      }
    },
    {
      "cell_type": "markdown",
      "source": [
        "# 4. Describe how dictionaries store data?\n",
        "\n",
        "->In Python, dictionaries are used to store data in key-value pairs. They are implemented as hash tables, which makes them extremely efficient for lookups.\n",
        "\n",
        "Dictionaries Store Data in these forms:\n",
        "    \n",
        "Key-Value Pairs: Each dictionary entry consists of a key (which must be immutable) and a corresponding value (which can be any data type).\n",
        "\n",
        "Collision Handling: If two keys have the same hash, Python handles it using collision resolution techniques like open addressing or separate chaining.\n",
        "\n",
        "Dynamic Resizing: Dictionaries dynamically expand when needed to maintain performance."
      ],
      "metadata": {
        "id": "847SJgGlqHCg"
      }
    },
    {
      "cell_type": "markdown",
      "source": [
        "# 5. Why might you use a set instead of a list in Python?\n",
        "\n",
        "-> We might use a set instead of a list in Python for several reasons, depending on our use case.\n",
        "\n",
        "Uniqueness of Elements: A set automatically removes duplicate values, while a list allows duplicates.\n",
        "\n",
        "Efficient Set Operations: Sets support fast operations like union, intersection, and difference.\n",
        "\n",
        "Memory Efficiency: Sets generally use less memory than lists when storing large amounts of unique data because they don’t store duplicate values.\n",
        "\n",
        "Apart from these we can use Lists for these cases:\n",
        "\n",
        "When order matters (since sets are unordered).\n",
        "\n",
        "When you need duplicates (lists allow them).\n",
        "\n",
        "When you frequently access elements by index (sets do not support indexing).\n"
      ],
      "metadata": {
        "id": "T3LwSfsArggD"
      }
    },
    {
      "cell_type": "markdown",
      "source": [
        "# 6. What is a string in Python, and how is it different from a list?\n",
        "\n",
        "->A string in Python is a sequence of characters enclosed in single ('), double (\"), or triple (''' \"\"\") quotes.\n",
        "\n",
        "Strings are immutable, meaning they cannot be changed after creation.\n",
        "\n",
        "String allows only characters while List allows mixed data types.\n",
        "\n",
        "In strings iteration happens character by character while in Lists it happens element by element.\n",
        "\n",
        "In general we use strings for text while listsa are used for modifiable, mixed data."
      ],
      "metadata": {
        "id": "TYjAybsssxfY"
      }
    },
    {
      "cell_type": "markdown",
      "source": [
        "# 7. How do tuples ensure data integrity in Python.\n",
        "\n",
        "-> A tuple is immutable, meaning its values cannot be changed, which helps protect data.\n",
        "\n",
        "How Tuples Ensure Data Integrity:\n",
        "\n",
        "Prevents Accidental Changes- Values stay the same.\n",
        "\n",
        "Ensures Consistency- Great for fixed data like settings.\n",
        "\n",
        "Thread Safe- No unexpected modifications in multi-threading.\n",
        "\n",
        "Hashable- Can be used as dictionary keys.\n"
      ],
      "metadata": {
        "id": "ts_VMTDiuo9R"
      }
    },
    {
      "cell_type": "markdown",
      "source": [
        "# 8. What is a hash table, and how does it relate to dictionaries in Python?\n",
        "\n",
        "->A hash table is a data structure that stores key-value pairs using a hashing function for fast lookups.\n",
        "\n",
        "Python dictionaries (dict) are built using hash tables, making lookups, insertions, and deletions very fast (O(1) on average).\n",
        "\n",
        "Working:\n",
        "    \n",
        "Keys are hashed → mapped to a memory index.\n",
        "\n",
        "Lookups, insertions, deletions are O(1) on average.\n",
        "    \n",
        "Handles collisions with techniques like open addressing."
      ],
      "metadata": {
        "id": "hxGKPZ46vxTj"
      }
    },
    {
      "cell_type": "markdown",
      "source": [
        "# 9. Can lists contain different data types in Python?\n",
        "\n",
        "->Yes, Python lists can contain different data types because Python is dynamically typed. This means a single list can store integers, strings, floats, booleans, or even other lists.\n",
        "    \n",
        "Unlike arrays in some other languages that require a fixed data type, Python lists are flexible and allow mixed data without restrictions.\n",
        "    \n",
        "For example, a list like [10, \"hello\", 3.14, True] is completely valid. This makes lists highly versatile for handling various types of data in a single structure, making them useful in real-world applications.\n",
        "\n"
      ],
      "metadata": {
        "id": "LLjxYnKfxBXq"
      }
    },
    {
      "cell_type": "markdown",
      "source": [
        "# 10. Explain why strings are immutable in Python?\n",
        "\n",
        "->Strings in Python are immutable, meaning they cannot be modified after creation. This design choice improves memory efficiency, as Python can safely reuse existing string objects instead of modifying them.\n",
        "    \n",
        "It also ensures security and consistency, especially when strings are used as dictionary keys or in hash-based operations.\n",
        "    \n",
        "If a string needs to be changed, Python creates a new string instead of modifying the original. This behavior enhances performance, reliability, and overall program stability.\n"
      ],
      "metadata": {
        "id": "s3P2XNAKxbVr"
      }
    },
    {
      "cell_type": "markdown",
      "source": [
        "# 11.What advantages do dictionaries offer over lists for certain tasks?\n",
        "\n",
        "->Dictionaries (dict) and lists (list) are both useful data structures, but dictionaries offer key advantages in specific scenarios due to their key-value pairing and hash table implementation.\n",
        "    \n",
        "Unlike lists, which store elements in an ordered sequence, dictionaries allow direct access to values using unique keys, making them more efficient for certain tasks.\n",
        "\n",
        "Meaningful Data Access- Keys in dictionaries provide descriptive access to values, making code more readable (person[\"age\"] vs. person[2] in a list)\n",
        "\n",
        "No Duplicate Keys- Ensures data uniqueness, whereas lists allow duplicate values.\n",
        "\n",
        "Efficient Updates and Deletions- Direct access via keys makes modifications faster than searching by index in lists."
      ],
      "metadata": {
        "id": "JrEYmzjLyGz-"
      }
    },
    {
      "cell_type": "markdown",
      "source": [
        "# 12. Describe a scenario where using a tuple would be preferable over a list.\n",
        "    \n",
        "->A tuple is preferable over a list when you need to store fixed, unchangeable data that should remain constant throughout the program.\n",
        "\n",
        "Scenario: Storing Days of the Week\n",
        "\n",
        "If we are building a calendar application, the days of the week (Monday-Sunday) will never change. Using a tuple ensures data integrity and improves performance.\n",
        "\n",
        "\n",
        "\n"
      ],
      "metadata": {
        "id": "aMkvNlNStzzO"
      }
    },
    {
      "cell_type": "markdown",
      "source": [
        "# 13. How do sets handle duplicate values in Python.\n",
        "\n",
        "-> In Python, sets automatically remove duplicate values because they are unordered collections of unique elements. When you add duplicate items to a set, Python keeps only one copy of each unique value.\n",
        "    \n",
        "Example:\n",
        "my_set = {1, 2, 2, 3, 4, 4, 4, 5}\n",
        "print(my_set)  # Output: {1, 2, 3, 4, 5}\n",
        "\n",
        "Working:\n",
        "Duplicate values are ignored- Only one instance of each element is stored."
      ],
      "metadata": {
        "id": "n8S5x_AjCL7Z"
      }
    },
    {
      "cell_type": "markdown",
      "source": [
        "# 14. How does the “in” keyword work differently for lists and dictionaries?\n",
        "\n",
        "->In Python, the in keyword is used to check for the existence of an item in a collection, but it behaves differently for lists and dictionaries. In a list, in searches through all elements one by one, making the lookup O(n) in time complexity, meaning it slows down as the list grows. This is because lists are ordered sequences and Python must check each element until it finds a match.\n",
        "    \n",
        "In contrast, in a dictionary, in only checks for the presence of keys, not values. Since dictionaries use hash tables, key lookups are O(1) in time complexity, meaning they are much faster regardless of size. This makes dictionaries highly efficient for quick lookups when working with large datasets.\n",
        "    \n",
        "For example, checking \"name\" in {\"name\": \"Alice\", \"age\": 25} returns True, but checking 25 in {\"name\": \"Alice\", \"age\": 25} returns False because 25 is a value, not a key.\n",
        "\n",
        "\n",
        "\n",
        "\n",
        "\n",
        "\n",
        "\n",
        "\n",
        "\n",
        "\n",
        "\n"
      ],
      "metadata": {
        "id": "63L9aa-MDCp1"
      }
    },
    {
      "cell_type": "markdown",
      "source": [
        "# 15. Can you modify the elements of a tuple? Explain why or why not.\n",
        "\n",
        "->No, we cannot modify the elements of a tuple in Python because tuples are immutable, meaning their elements cannot be changed, added, or removed after creation.\n",
        "  \n",
        "This immutability ensures data integrity, better performance, and memory efficiency compared to lists. Since tuples are stored in a fixed memory location, they are faster and require less overhead. Additionally, their immutability allows them to be used as keys in dictionaries, unlike lists, which are mutable and cannot be hashed.\n",
        "\n",
        "If you try to modify a tuple element, Python will raise a TypeError. For example, attempting my_tuple[0] = 10 will result in an error. However, if modification is required, using a list instead of a tuple is a better choice.\n",
        "\n",
        "\n",
        "\n",
        "\n",
        "\n",
        "\n",
        "\n",
        "\n"
      ],
      "metadata": {
        "id": "oq3VAketECWz"
      }
    },
    {
      "cell_type": "markdown",
      "source": [
        "# 16.What is a nested dictionary, and give an example of its use case.\n",
        "\n",
        "->A nested dictionary in Python is a dictionary that contains another dictionary as its value, allowing for the storage of hierarchical or structured data.\n",
        "\n",
        "This makes it useful for organizing complex datasets, such as database records or configurations.\n",
        "\n",
        "For example, in a school management system, a nested dictionary can store student information, including their name, age, and enrolled subjects. Instead of using multiple separate dictionaries, nesting helps keep related data grouped and easily accessible.\n",
        "\n",
        "Accessing data in a nested dictionary requires specifying multiple keys, such as students[\"student1\"][\"name\"] to retrieve a student's name. This structure improves data organization, readability, and efficiency, making it ideal for handling real-world structured information.\n",
        "\n",
        "Example:\n",
        "\n",
        "students = {\n",
        "    \"student1\": {\"name\": \"Anil\", \"age\": 20, \"subjects\": [\"Math\", \"Science\"]},\n",
        "    \"student2\": {\"name\": \"Sunil\", \"age\": 22, \"subjects\": [\"History\", \"English\"]}\n",
        "}\n",
        "\n",
        "-Accessing nested data\n",
        "print(students[\"student1\"][\"name\"])  # Output: Anil\n",
        "print(students[\"student2\"][\"subjects\"])  # Output: ['History', 'English']"
      ],
      "metadata": {
        "id": "B6n2ppSCFKYp"
      }
    },
    {
      "cell_type": "markdown",
      "source": [
        "#17. Describe the time complexity of accessing elements in a dictionary.\n",
        "\n",
        "\n",
        "->In Python, accessing elements in a dictionary is very fast, with an average time complexity of O(1) (constant time). This is because dictionaries use a hash table, which allows Python to find a value directly using its key without searching through all elements.\n",
        "\n",
        "However, in rare cases where multiple keys have the same hash (hash collisions), the lookup may take longer, up to O(n) (worst case). Still, dictionaries are one of the most efficient ways to store and retrieve data quickly."
      ],
      "metadata": {
        "id": "B3IXDBibJVOP"
      }
    },
    {
      "cell_type": "markdown",
      "source": [
        "# 18. In what situations are lists preferred over dictionaries?\n",
        "\n",
        "->Lists are preferred over dictionaries in situations where ordered, sequential data needs to be stored and modified efficiently.\n",
        "\n",
        "Since lists preserve the order of elements, they are ideal for cases where order matters, such as processing queues, stacks, or iteration-based tasks.\n",
        "\n",
        "Lists are also useful when working with simple collections of data without key-value pairs, such as storing a list of numbers, names, or tasks.\n",
        "\n",
        "Additionally, lists are more memory-efficient than dictionaries for small datasets, as dictionaries require extra space to store keys.\n",
        "\n",
        "If the primary operation involves index-based access, sorting, or appending/removing elements, lists are the better choice.\n"
      ],
      "metadata": {
        "id": "v2_3dsi8Qx4H"
      }
    },
    {
      "cell_type": "markdown",
      "source": [
        "#19. Why are dictionaries considered unordered, and how does that affect data retrieval?\n",
        "\n",
        "-> Dictionaries in Python are considered unordered because they store data using a hash table, where key-value pairs are placed based on their hash values, not in the order they were added.\n",
        "\n",
        "Before Python 3.7, dictionaries did not maintain insertion order, but from Python 3.7+, they preserve the order in which keys were inserted.\n",
        "\n",
        "However, since retrieval is based on hashing and not sequence, accessing elements by position (like in lists) is not possible.\n",
        "\n",
        "Instead, keys must be used to retrieve values, making lookups fast (O(1) time complexity) but limiting sequential access like slicing.\n"
      ],
      "metadata": {
        "id": "oIgU2iaFRUM1"
      }
    },
    {
      "cell_type": "markdown",
      "source": [
        "#20. Explain the difference between a list and a dictionary in terms of data retrieval.\n",
        "\n",
        "->A list retrieves data using an index number (position), like my_list[1], which is fast (O(1)) but requires scanning the list (O(n)) if searching for a specific value.\n",
        "\n",
        "A dictionary retrieves data using a key, like my_dict[\"fruit2\"], which is much faster (O(1)) because it uses a hash table. However, dictionaries do not support accessing values by position.\n",
        "\n",
        "\n",
        "Eample:\n",
        "\n",
        "List (index-based retrieval)\n",
        "my_list = [\"apple\", \"banana\", \"cherry\"]\n",
        "print(my_list[1])  # Output: banana\n",
        "\n",
        "Dictionary (key-based retrieval)\n",
        "my_dict = {\"fruit1\": \"apple\", \"fruit2\": \"banana\"}\n",
        "print(my_dict[\"fruit2\"])  # Output: banana\n"
      ],
      "metadata": {
        "id": "_IZMmS1ERl_V"
      }
    },
    {
      "cell_type": "markdown",
      "source": [
        "**PRACTICAL**"
      ],
      "metadata": {
        "id": "go593ISASp_6"
      }
    },
    {
      "cell_type": "code",
      "source": [
        "#1. Write a code to create a string with your name and print it.\n",
        "\n",
        "name = \"Velapula Sunil\"\n",
        "print(name)"
      ],
      "metadata": {
        "colab": {
          "base_uri": "https://localhost:8080/"
        },
        "id": "wQYVzEkNSrNQ",
        "outputId": "5d996399-7994-4bb3-a9fc-39dc6753e198"
      },
      "execution_count": null,
      "outputs": [
        {
          "output_type": "stream",
          "name": "stdout",
          "text": [
            "Velapula Sunil\n"
          ]
        }
      ]
    },
    {
      "cell_type": "code",
      "source": [
        "#2. Write a code to find the length of the string \"Hello World\".\n",
        "\n",
        "text = \"Hello World\"\n",
        "print(len(text))  # Findiding and printing the length of the string"
      ],
      "metadata": {
        "colab": {
          "base_uri": "https://localhost:8080/"
        },
        "id": "IMrBfKgVTALj",
        "outputId": "a04288ec-6b9a-439b-9005-b47b049ac0ea"
      },
      "execution_count": null,
      "outputs": [
        {
          "output_type": "stream",
          "name": "stdout",
          "text": [
            "11\n"
          ]
        }
      ]
    },
    {
      "cell_type": "code",
      "source": [
        "#3. Write a code to slice the first 3 characters from the string \"Python Programming\".\n",
        "\n",
        "text = \"Python Programming\"\n",
        "first_three = text[:3] # Slicing the first 3 characters\n",
        "print(first_three)"
      ],
      "metadata": {
        "colab": {
          "base_uri": "https://localhost:8080/"
        },
        "id": "VyU6zAp3Tbsv",
        "outputId": "e87c4da3-5847-4ae9-e548-bb45837952f0"
      },
      "execution_count": null,
      "outputs": [
        {
          "output_type": "stream",
          "name": "stdout",
          "text": [
            "Pyt\n"
          ]
        }
      ]
    },
    {
      "cell_type": "code",
      "source": [
        "#4. Write a code to convert the string \"hello\" to uppercase?\n",
        "\n",
        "t = \"hello\"\n",
        "uppercase_t = t.upper() # Converting to uppercase\n",
        "print(uppercase_t)"
      ],
      "metadata": {
        "colab": {
          "base_uri": "https://localhost:8080/"
        },
        "id": "CvteJAZfT1t8",
        "outputId": "1ade70b1-7cbd-4a65-caf9-d381e52f616e"
      },
      "execution_count": null,
      "outputs": [
        {
          "output_type": "stream",
          "name": "stdout",
          "text": [
            "HELLO\n"
          ]
        }
      ]
    },
    {
      "cell_type": "code",
      "source": [
        "#5. Write a code to replace the word \"apple\" with \"orange\" in the string \"I like apple\".\n",
        "\n",
        "text = \"I like apple\"\n",
        "new_text = text.replace(\"apple\", \"orange\")  # Replacing \"apple\" with \"orange\"\n",
        "print(new_text)"
      ],
      "metadata": {
        "colab": {
          "base_uri": "https://localhost:8080/"
        },
        "id": "zeTfGXzSUZgM",
        "outputId": "58f7ddeb-bbfa-4baa-e972-a26180c441c1"
      },
      "execution_count": null,
      "outputs": [
        {
          "output_type": "stream",
          "name": "stdout",
          "text": [
            "I like orange\n"
          ]
        }
      ]
    },
    {
      "cell_type": "code",
      "source": [
        "#6. Write a code to create a list with numbers 1 to 5 and print it.\n",
        "\n",
        "numbers = [1, 2, 3, 4, 5]\n",
        "print(numbers)"
      ],
      "metadata": {
        "colab": {
          "base_uri": "https://localhost:8080/"
        },
        "id": "iyuZ0E4zUt1o",
        "outputId": "17961922-76eb-4db5-f319-33b95b419021"
      },
      "execution_count": null,
      "outputs": [
        {
          "output_type": "stream",
          "name": "stdout",
          "text": [
            "[1, 2, 3, 4, 5]\n"
          ]
        }
      ]
    },
    {
      "cell_type": "code",
      "source": [
        "#7. Write a code to append the number 10 to the list [1, 2, 3, 4].\n",
        "\n",
        "numbers = [1, 2, 3, 4]\n",
        "numbers.append(10)  # Append the number 10\n",
        "print(numbers)"
      ],
      "metadata": {
        "colab": {
          "base_uri": "https://localhost:8080/"
        },
        "id": "CPKZtLt5VEos",
        "outputId": "967b57a0-abed-41a3-fcdf-ed84af8ae5d3"
      },
      "execution_count": null,
      "outputs": [
        {
          "output_type": "stream",
          "name": "stdout",
          "text": [
            "[1, 2, 3, 4, 10]\n"
          ]
        }
      ]
    },
    {
      "cell_type": "code",
      "source": [
        "#8. Write a code to remove the number 3 from the list [1, 2, 3, 4, 5].\n",
        "\n",
        "numbers = [1, 2, 3, 4, 5]\n",
        "numbers.remove(3)  # Removes the number 3\n",
        "print(numbers)"
      ],
      "metadata": {
        "colab": {
          "base_uri": "https://localhost:8080/"
        },
        "id": "_pweIf3eVQ3G",
        "outputId": "77449d2e-7cfd-4f9a-9d97-e67e4daeb5ff"
      },
      "execution_count": null,
      "outputs": [
        {
          "output_type": "stream",
          "name": "stdout",
          "text": [
            "[1, 2, 4, 5]\n"
          ]
        }
      ]
    },
    {
      "cell_type": "code",
      "source": [
        "#9. Write a code to access the second element in the list ['a', 'b', 'c', 'd'].\n",
        "\n",
        "letters = ['a', 'b', 'c', 'd']\n",
        "second_element = letters[1] #Accessing second element\n",
        "print(second_element)"
      ],
      "metadata": {
        "colab": {
          "base_uri": "https://localhost:8080/"
        },
        "id": "dwVvn2p2VkHm",
        "outputId": "f628c3e0-3b30-4b2f-f309-24f29f2c2927"
      },
      "execution_count": null,
      "outputs": [
        {
          "output_type": "stream",
          "name": "stdout",
          "text": [
            "b\n"
          ]
        }
      ]
    },
    {
      "cell_type": "code",
      "source": [
        "#10. Write a code to reverse the list [10, 20, 30, 40, 50].\n",
        "\n",
        "numbers = [10, 20, 30, 40, 50]\n",
        "numbers.reverse()  # Reverse the list\n",
        "print(numbers)"
      ],
      "metadata": {
        "colab": {
          "base_uri": "https://localhost:8080/"
        },
        "id": "bI1SrOwrV0um",
        "outputId": "34de5034-0ebf-458c-829f-3f51ef20f485"
      },
      "execution_count": null,
      "outputs": [
        {
          "output_type": "stream",
          "name": "stdout",
          "text": [
            "[50, 40, 30, 20, 10]\n"
          ]
        }
      ]
    },
    {
      "cell_type": "code",
      "source": [
        "#11. Write a code to create a tuple with the elements 100, 200, 300 and print it.\n",
        "\n",
        "numbers = (100, 200, 300)  # Create a tuple with elements 100, 200, 300\n",
        "print(numbers)"
      ],
      "metadata": {
        "colab": {
          "base_uri": "https://localhost:8080/"
        },
        "id": "76mYnahjWPSW",
        "outputId": "afbc8f9c-19d4-4142-f782-6ca8be3d005c"
      },
      "execution_count": null,
      "outputs": [
        {
          "output_type": "stream",
          "name": "stdout",
          "text": [
            "(100, 200, 300)\n"
          ]
        }
      ]
    },
    {
      "cell_type": "code",
      "source": [
        "#12. Write a code to access the second-to-last element of the tuple ('red', 'green', 'blue', 'yellow').\n",
        "\n",
        "colors = ('red', 'green', 'blue', 'yellow')\n",
        "second_to_last = colors[-2] # Accessing the second-to-last element\n",
        "print(second_to_last)"
      ],
      "metadata": {
        "colab": {
          "base_uri": "https://localhost:8080/"
        },
        "id": "lk5vFs-aWfcM",
        "outputId": "51b1332d-faea-4bc9-ca9e-9c75fb1d979c"
      },
      "execution_count": null,
      "outputs": [
        {
          "output_type": "stream",
          "name": "stdout",
          "text": [
            "blue\n"
          ]
        }
      ]
    },
    {
      "cell_type": "code",
      "source": [
        "#13. Write a code to find the minimum number in the tuple (10, 20, 5, 15).\n",
        "\n",
        "numbers = (10, 20, 5, 15)\n",
        "min_number = min(numbers) # Finding the minimum number\n",
        "print(min_number)"
      ],
      "metadata": {
        "colab": {
          "base_uri": "https://localhost:8080/"
        },
        "id": "ABOWf-J-W0ju",
        "outputId": "8b1b57dd-f7e5-4faa-f382-bfa29e5e1a6f"
      },
      "execution_count": null,
      "outputs": [
        {
          "output_type": "stream",
          "name": "stdout",
          "text": [
            "5\n"
          ]
        }
      ]
    },
    {
      "cell_type": "code",
      "source": [
        "#14. Write a code to find the index of the element \"cat\" in the tuple ('dog', 'cat', 'rabbit').\n",
        "\n",
        "animals = ('dog', 'cat', 'rabbit')\n",
        "cat_index = animals.index(\"cat\") # Finding the index of \"cat\"\n",
        "print(cat_index)"
      ],
      "metadata": {
        "colab": {
          "base_uri": "https://localhost:8080/"
        },
        "id": "pdlWF1lUXA8i",
        "outputId": "19c6896e-ba1e-44a1-cd6e-87753d011c2b"
      },
      "execution_count": null,
      "outputs": [
        {
          "output_type": "stream",
          "name": "stdout",
          "text": [
            "1\n"
          ]
        }
      ]
    },
    {
      "cell_type": "code",
      "source": [
        "#15. Write a code to create a tuple containing three different fruits and check if \"kiwi\" is in it.\n",
        "\n",
        "fruits = (\"apple\", \"banana\", \"orange\")\n",
        "is_kiwi_present = \"kiwi\" in fruits # Checking if \"kiwi\" is in the tuple\n",
        "print(is_kiwi_present)"
      ],
      "metadata": {
        "colab": {
          "base_uri": "https://localhost:8080/"
        },
        "id": "hCGeJl_tXPfh",
        "outputId": "ecea3762-6242-4367-a1e3-ce0df56f8968"
      },
      "execution_count": null,
      "outputs": [
        {
          "output_type": "stream",
          "name": "stdout",
          "text": [
            "False\n"
          ]
        }
      ]
    },
    {
      "cell_type": "code",
      "source": [
        "#16. Write a code to create a set with the elements 'a', 'b', 'c' and print it.\n",
        "\n",
        "my_set = {'a', 'b', 'c'}\n",
        "print(my_set)"
      ],
      "metadata": {
        "colab": {
          "base_uri": "https://localhost:8080/"
        },
        "id": "Vt6APlycXpPa",
        "outputId": "35d31af7-b9ab-4cb0-c95c-40fbc29ce63e"
      },
      "execution_count": null,
      "outputs": [
        {
          "output_type": "stream",
          "name": "stdout",
          "text": [
            "{'b', 'a', 'c'}\n"
          ]
        }
      ]
    },
    {
      "cell_type": "code",
      "source": [
        "#17. Write a code to clear all elements from the set {1, 2, 3, 4, 5}.\n",
        "\n",
        "numbers = {1, 2, 3, 4, 5}\n",
        "numbers.clear()  # clearing the set\n",
        "print(numbers)"
      ],
      "metadata": {
        "colab": {
          "base_uri": "https://localhost:8080/"
        },
        "id": "RSwwNnHpYj7m",
        "outputId": "a46eaf90-a842-4267-9405-4e6e53de9243"
      },
      "execution_count": null,
      "outputs": [
        {
          "output_type": "stream",
          "name": "stdout",
          "text": [
            "set()\n"
          ]
        }
      ]
    },
    {
      "cell_type": "code",
      "source": [
        "#18. Write a code to remove the element 4 from the set {1, 2, 3, 4}.\n",
        "\n",
        "numbers = {1, 2, 3, 4}\n",
        "numbers.remove(4) # Removing the element 4\n",
        "print(numbers)"
      ],
      "metadata": {
        "colab": {
          "base_uri": "https://localhost:8080/"
        },
        "id": "Z-mOZZw4Y8DA",
        "outputId": "e69e5b0d-6184-4124-b7d8-0665d450afd5"
      },
      "execution_count": null,
      "outputs": [
        {
          "output_type": "stream",
          "name": "stdout",
          "text": [
            "{1, 2, 3}\n"
          ]
        }
      ]
    },
    {
      "cell_type": "code",
      "source": [
        "#19. Write a code to find the union of two sets {1, 2, 3} and {3, 4, 5}.\n",
        "\n",
        "set1 = {1, 2, 3}\n",
        "set2 = {3, 4, 5}\n",
        "union_set = set1.union(set2) # Finds the union of the sets\n",
        "print(union_set)"
      ],
      "metadata": {
        "colab": {
          "base_uri": "https://localhost:8080/"
        },
        "id": "qbuGH82lZPaq",
        "outputId": "a417a4c7-ffbf-4203-b950-7ff199bb30a2"
      },
      "execution_count": null,
      "outputs": [
        {
          "output_type": "stream",
          "name": "stdout",
          "text": [
            "{1, 2, 3, 4, 5}\n"
          ]
        }
      ]
    },
    {
      "cell_type": "code",
      "source": [
        "#20. Write a code to find the intersection of two sets {1, 2, 3} and {2, 3, 4}.\n",
        "\n",
        "set1 = {1, 2, 3}\n",
        "set2 = {2, 3, 4}\n",
        "intersection_set = set1.intersection(set2)# Finds the intersection of the sets\n",
        "print(intersection_set)"
      ],
      "metadata": {
        "colab": {
          "base_uri": "https://localhost:8080/"
        },
        "id": "RnsiCEKdZjx2",
        "outputId": "94b778af-acd7-44a2-ba60-dc0fe98786c4"
      },
      "execution_count": null,
      "outputs": [
        {
          "output_type": "stream",
          "name": "stdout",
          "text": [
            "{2, 3}\n"
          ]
        }
      ]
    },
    {
      "cell_type": "code",
      "source": [
        "#21. Write a code to create a dictionary with the keys \"name\", \"age\", and \"city\", and print it.\n",
        "\n",
        "person = {\"name\": \"Sunil\", \"age\": 23, \"city\": \"Hyderabad\"}\n",
        "print(person)"
      ],
      "metadata": {
        "colab": {
          "base_uri": "https://localhost:8080/"
        },
        "id": "x5olfyzmao8c",
        "outputId": "6825f276-aba1-4de2-e0d4-98c4afc50a9b"
      },
      "execution_count": null,
      "outputs": [
        {
          "output_type": "stream",
          "name": "stdout",
          "text": [
            "{'name': 'Sunil', 'age': 23, 'city': 'Hyderabad'}\n"
          ]
        }
      ]
    },
    {
      "cell_type": "code",
      "source": [
        "#22. Write a code to add a new key-value pair \"country\": \"USA\" to the dictionary {'name': 'John', 'age': 25}.\n",
        "\n",
        "person = {'name': 'John', 'age': 25}\n",
        "person['country'] = 'USA'# Adding a new key-value pair\n",
        "print(person)"
      ],
      "metadata": {
        "colab": {
          "base_uri": "https://localhost:8080/"
        },
        "id": "SL5mbGkza8aE",
        "outputId": "5ae51fc0-7070-4c4b-948a-307ddedc0a1d"
      },
      "execution_count": null,
      "outputs": [
        {
          "output_type": "stream",
          "name": "stdout",
          "text": [
            "{'name': 'John', 'age': 25, 'country': 'USA'}\n"
          ]
        }
      ]
    },
    {
      "cell_type": "code",
      "source": [
        "#23. Write a code to access the value associated with the key \"name\" in the dictionary {'name': 'Alice', 'age': 30}.\n",
        "\n",
        "person = {'name': 'Alice', 'age': 30}\n",
        "name_value = person['name'] # Accessing the value associated with the key 'name'\n",
        "print(name_value)"
      ],
      "metadata": {
        "colab": {
          "base_uri": "https://localhost:8080/"
        },
        "id": "vOGznkt6bKSQ",
        "outputId": "85d65719-5c83-410c-f226-bca362886c23"
      },
      "execution_count": null,
      "outputs": [
        {
          "output_type": "stream",
          "name": "stdout",
          "text": [
            "Alice\n"
          ]
        }
      ]
    },
    {
      "cell_type": "code",
      "source": [
        "#24. Write a code to remove the key \"age\" from the dictionary {'name': 'Bob', 'age': 22, 'city': 'New York'}.\n",
        "\n",
        "person = {'name': 'Bob', 'age': 22, 'city': 'New York'}\n",
        "person.pop('age') # Remove the key 'age'\n",
        "print(person)"
      ],
      "metadata": {
        "colab": {
          "base_uri": "https://localhost:8080/"
        },
        "id": "ZAjTadFkbp0B",
        "outputId": "dd9fc965-0ab7-490c-a12a-70dd5ba179be"
      },
      "execution_count": null,
      "outputs": [
        {
          "output_type": "stream",
          "name": "stdout",
          "text": [
            "{'name': 'Bob', 'city': 'New York'}\n"
          ]
        }
      ]
    },
    {
      "cell_type": "code",
      "source": [
        "#25. Write a code to check if the key \"city\" exists in the dictionary {'name': 'Alice', 'city': 'Paris'}.\n",
        "\n",
        "person = {'name': 'Alice', 'city': 'Paris'}\n",
        "is_city_present = 'city' in person # Check if the key 'city' exists\n",
        "print(is_city_present)"
      ],
      "metadata": {
        "colab": {
          "base_uri": "https://localhost:8080/"
        },
        "id": "qDEZOBkIb8hb",
        "outputId": "24fce971-94e4-47e2-d92f-6b5a38c12589"
      },
      "execution_count": null,
      "outputs": [
        {
          "output_type": "stream",
          "name": "stdout",
          "text": [
            "True\n"
          ]
        }
      ]
    },
    {
      "cell_type": "code",
      "source": [
        "#26. Write a code to create a list, a tuple, and a dictionary, and print them all.\n",
        "\n",
        "my_list = [1, 2, 3, 4, 5]\n",
        "my_tuple = (10, 20, 30)\n",
        "my_dict = {'name': 'John', 'age': 25, 'city': 'New York'}\n",
        "print(\"List:\", my_list)\n",
        "print(\"Tuple:\", my_tuple)\n",
        "print(\"Dictionary:\", my_dict)"
      ],
      "metadata": {
        "colab": {
          "base_uri": "https://localhost:8080/"
        },
        "id": "qW1xylGjcMRX",
        "outputId": "9cde2500-358e-4658-b1cd-483033f88eb2"
      },
      "execution_count": null,
      "outputs": [
        {
          "output_type": "stream",
          "name": "stdout",
          "text": [
            "List: [1, 2, 3, 4, 5]\n",
            "Tuple: (10, 20, 30)\n",
            "Dictionary: {'name': 'John', 'age': 25, 'city': 'New York'}\n"
          ]
        }
      ]
    },
    {
      "cell_type": "code",
      "source": [
        "#27. Write a code to create a list of 5 random numbers between 1 and 100, sort it in ascending order, and print the result.(replaced)\n",
        "\n",
        "import random\n",
        "random_numbers = random.sample(range(1, 101), 5) # Create a list of 5 random numbers between 1 and 100\n",
        "random_numbers.sort()# Sort the list in ascending order\n",
        "print(random_numbers)\n"
      ],
      "metadata": {
        "colab": {
          "base_uri": "https://localhost:8080/"
        },
        "id": "mYtR3GUVcNj7",
        "outputId": "44685bdc-769b-4c98-bf39-50a743454749"
      },
      "execution_count": null,
      "outputs": [
        {
          "output_type": "stream",
          "name": "stdout",
          "text": [
            "[11, 43, 75, 78, 83]\n"
          ]
        }
      ]
    },
    {
      "cell_type": "code",
      "source": [
        "#28. Write a code to create a list with strings and print the element at the third index.\n",
        "\n",
        "words = [\"table\", \"hair\", \"grapes\", \"banana\", \"AC\"]\n",
        "print(words[3]) # Print the element at the third index (0-based index)"
      ],
      "metadata": {
        "colab": {
          "base_uri": "https://localhost:8080/"
        },
        "id": "o-utreSxc6hn",
        "outputId": "850080ef-2024-4723-f37a-3fc93d6d6ea2"
      },
      "execution_count": null,
      "outputs": [
        {
          "output_type": "stream",
          "name": "stdout",
          "text": [
            "banana\n"
          ]
        }
      ]
    },
    {
      "cell_type": "code",
      "source": [
        "# 29. Write a code to combine two dictionaries into one and print the result.\n",
        "\n",
        "dict1 = {'name': 'sunil', 'age': 23}\n",
        "dict2 = {'city': 'Hyderabad', 'country': 'India'}\n",
        "combined_dict = {**dict1, **dict2} # Combine the dictionaries\n",
        "print(combined_dict)"
      ],
      "metadata": {
        "colab": {
          "base_uri": "https://localhost:8080/"
        },
        "id": "mOnpt5eDdUlk",
        "outputId": "773b645a-582f-477a-9f93-3c83e1ba7ffb"
      },
      "execution_count": null,
      "outputs": [
        {
          "output_type": "stream",
          "name": "stdout",
          "text": [
            "{'name': 'sunil', 'age': 23, 'city': 'Hyderabad', 'country': 'India'}\n"
          ]
        }
      ]
    },
    {
      "cell_type": "code",
      "source": [
        "# 30. Write a code to convert a list of strings into a set.\n",
        "\n",
        "words_list = [\"stool\", \"chair\", \"table\", \"stool\", \"chair\"]\n",
        "words_set = set(words_list) # Convert the list into a set\n",
        "print(words_set)"
      ],
      "metadata": {
        "colab": {
          "base_uri": "https://localhost:8080/"
        },
        "id": "CNszkY3kdrq8",
        "outputId": "abdce9c3-fb2c-4739-96a1-49b0255bcf68"
      },
      "execution_count": null,
      "outputs": [
        {
          "output_type": "stream",
          "name": "stdout",
          "text": [
            "{'table', 'stool', 'chair'}\n"
          ]
        }
      ]
    }
  ]
}